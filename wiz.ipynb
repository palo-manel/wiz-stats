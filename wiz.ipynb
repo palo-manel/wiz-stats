{
 "cells": [
  {
   "cell_type": "markdown",
   "metadata": {},
   "source": [
    "# wiz.io Reporting tool\n",
    "\n",
    "## Getting the data\n",
    "\n",
    "The first step is downloading the data from the [wiz.io portal](https://app.wiz.io/). Save it as a `.csv` file. You will need to add the filename below."
   ]
  },
  {
   "cell_type": "code",
   "execution_count": 27,
   "metadata": {},
   "outputs": [],
   "source": [
    "import pandas as pd\n",
    "\n",
    "wiz_df = pd.read_csv('example.csv')"
   ]
  },
  {
   "cell_type": "markdown",
   "metadata": {},
   "source": [
    "## Vulnerability Break Down\n",
    "\n",
    "The following table displays the total count of vulnerabilities grouped by Severity and Project."
   ]
  },
  {
   "cell_type": "code",
   "execution_count": null,
   "metadata": {},
   "outputs": [],
   "source": [
    "from matplotlib import pyplot as plt\n",
    "\n",
    "colors = {'LOW': '#00ff00',\n",
    "          'MEDIUM': '#ffff00',\n",
    "          'HIGH': '#ff8000',\n",
    "          'CRITICAL': '#ff0000'}\n",
    "totals = wiz_df.groupby(['Severity', 'Project Names'])['Status'].count().unstack('Severity').fillna(0).reindex(columns=colors.keys())\n",
    "totals.plot(kind='barh', stacked=True, color=colors.values())\n",
    "plt.title(\"Vulnerability Break Down\")\n",
    "plt.xlabel(\"Count\")\n",
    "plt.ylabel(\"Project\")\n",
    "totals"
   ]
  }
 ],
 "metadata": {
  "interpreter": {
   "hash": "aee8b7b246df8f9039afb4144a1f6fd8d2ca17a180786b69acc140d282b71a49"
  },
  "kernelspec": {
   "display_name": "Python 3.9.10 64-bit",
   "language": "python",
   "name": "python3"
  },
  "language_info": {
   "codemirror_mode": {
    "name": "ipython",
    "version": 3
   },
   "file_extension": ".py",
   "mimetype": "text/x-python",
   "name": "python",
   "nbconvert_exporter": "python",
   "pygments_lexer": "ipython3",
   "version": "3.9.10"
  },
  "orig_nbformat": 4
 },
 "nbformat": 4,
 "nbformat_minor": 2
}
